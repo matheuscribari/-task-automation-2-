{
 "cells": [
  {
   "cell_type": "markdown",
   "id": "fad64131-0afd-4fb3-8f4f-c7211106c1a9",
   "metadata": {},
   "source": [
    "# Automação de Tarefas"
   ]
  },
  {
   "cell_type": "markdown",
   "id": "b8526989-5e1c-436f-95db-e5fc09f87bfd",
   "metadata": {},
   "source": [
    "## Problema a ser resolvido\n",
    "- buscar automaticamente os dados das ações no site do Yahoo!\n",
    "- analisar os dados das ações de acordo com a solicitação do gestor\n",
    "- enviar um e-mail com todas análises de forma automática"
   ]
  },
  {
   "cell_type": "markdown",
   "id": "65d105ce-e308-4eec-9e2c-0f6ab9403a35",
   "metadata": {},
   "source": [
    "## Passo 1 - Buscar automaticamente os dados das ações no site do Yahoo!\n"
   ]
  },
  {
   "cell_type": "code",
   "execution_count": 3,
   "id": "d40922a1-28e9-44f0-9af0-39db69d6d98f",
   "metadata": {},
   "outputs": [],
   "source": [
    "import yfinance\n",
    "\n"
   ]
  },
  {
   "cell_type": "code",
   "execution_count": 20,
   "id": "24732f7a-7dbd-4652-8e40-9238408a7976",
   "metadata": {},
   "outputs": [
    {
     "name": "stdin",
     "output_type": "stream",
     "text": [
      "Digite o código da ação desejada PETR4.SA\n"
     ]
    },
    {
     "data": {
      "text/plain": [
       "Date\n",
       "2023-09-21 00:00:00-03:00    32.501633\n",
       "2023-09-22 00:00:00-03:00    32.761570\n",
       "2023-09-25 00:00:00-03:00    32.973370\n",
       "2023-09-26 00:00:00-03:00    32.212814\n",
       "2023-09-27 00:00:00-03:00    33.233307\n",
       "                               ...    \n",
       "2024-03-15 00:00:00-03:00    36.320000\n",
       "2024-03-18 00:00:00-03:00    36.340000\n",
       "2024-03-19 00:00:00-03:00    36.070000\n",
       "2024-03-20 00:00:00-03:00    36.700001\n",
       "2024-03-21 00:00:00-03:00    35.700001\n",
       "Name: Close, Length: 123, dtype: float64"
      ]
     },
     "execution_count": 20,
     "metadata": {},
     "output_type": "execute_result"
    }
   ],
   "source": [
    "# ticker = código da ação\n",
    "codigo = input(\"Digite o código da ação desejada\")\n",
    "dados = yfinance.Ticker(codigo).history(\"6mo\")\n",
    "\n",
    "fechamento = dados.Close\n",
    "fechamento"
   ]
  },
  {
   "cell_type": "markdown",
   "id": "21a0894a-ad56-43bc-a7e8-b32b430e5c0d",
   "metadata": {},
   "source": [
    "## Passo 2 - Análises solicitadas pelo Gestor\n",
    "- A análise dos últimos seis meses\n",
    "- Cotação máximo\n",
    "- Cotação mínimo\n",
    "- Cotação atual"
   ]
  },
  {
   "cell_type": "code",
   "execution_count": 84,
   "id": "5b89b3c1-d8bd-4fd0-a1d2-67479bc2d9e4",
   "metadata": {},
   "outputs": [],
   "source": [
    "\n",
    "# cotação máxima\n",
    "max = fechamento.max()\n",
    "\n",
    "# cotação mínima\n",
    "min = fechamento.min()\n",
    "\n",
    "# versões mais recentes utilizam iloc.\n",
    "# pode utilizar fechamento[-1], mas aparecerá um erro\n",
    "atual = fechamento.iloc[-1]\n",
    "\n",
    "media = fechamento.mean"
   ]
  },
  {
   "cell_type": "markdown",
   "id": "81fb23a8-9c32-4e71-82eb-7ad64a9f50f6",
   "metadata": {},
   "source": [
    "## Automatizando o envio de e-mail\n",
    "- abrir uma nova aba (ctrl + t)\n",
    "- escrever o endereço do Gmail e pressionar Enter\n",
    "- clicar no botão escrever\n",
    "- preencher o destinatário, tab\n",
    "- preecher o assunto, tab\n",
    "- preecher o corpo do email\n",
    "- precionar (Ctrl - enter) para enviar\n",
    "  "
   ]
  },
  {
   "cell_type": "code",
   "execution_count": 87,
   "id": "64c11f24-3389-46b2-9b09-74cde398bfc3",
   "metadata": {},
   "outputs": [],
   "source": [
    "import pyautogui as pg\n",
    "import pyperclip as pc\n"
   ]
  },
  {
   "cell_type": "code",
   "execution_count": null,
   "id": "037cd364-cf2d-4b64-85a7-30baf82e6546",
   "metadata": {},
   "outputs": [],
   "source": [
    "import pyperclip as pc\n",
    "import time\n",
    "pg.hotkey(\"ctrl\", \"t\")\n",
    "\n",
    "pg.PAUSE = 1\n",
    "\n",
    "pg.write(\"https://mail.google.com/mail/u/0/#inbox\")\n",
    "\n",
    "pg.press(\"enter\")\n",
    "\n",
    "pg.click(x=79, y=176)\n",
    "\n",
    "pg.write(\"heli\")\n",
    "pg.press(\"tab\")\n",
    "pg.press(\"tab\")\n",
    "\n",
    "pg.write(\"receba a inteligência\")\n",
    "\n",
    "pg.click(x=1268, y=596)\n",
    "\n",
    "\n",
    "mensagem = f\"\"\"\n",
    "Prezado Joshua\n",
    "\n",
    "Seguem as análises dos últimos seis meses da ação {codigo} conforme solicitado por vossa senhoria\n",
    "\n",
    "Cotação máxima: R$: {round(max,2)}\n",
    "Cotação mínima: R$: {round(min,2)}\n",
    "Cotação atual: R$: {round(atual,2)}\n",
    "\n",
    "Qualquer dúvida não estou à disposição\n",
    "\n",
    "attd.\n",
    "\n",
    "Matheus Cribari / Grofius / Matheuson\n",
    "\"\"\"\n",
    "\n",
    "pc.copy(mensagem)\n",
    "pg.hotkey(\"ctrl\", \"v\")\n",
    "\n",
    "\n",
    "pg.hotkey(\"ctrl\",\"enter\")"
   ]
  },
  {
   "cell_type": "code",
   "execution_count": 70,
   "id": "02e825d6-27e0-4b4d-ba92-4690527e002f",
   "metadata": {},
   "outputs": [
    {
     "data": {
      "text/plain": [
       "Point(x=1268, y=596)"
      ]
     },
     "execution_count": 70,
     "metadata": {},
     "output_type": "execute_result"
    }
   ],
   "source": [
    "time.sleep(5)\n",
    "pg.position()"
   ]
  },
  {
   "cell_type": "code",
   "execution_count": null,
   "id": "02a2bc99-1755-4d19-b702-906af9d682ee",
   "metadata": {},
   "outputs": [],
   "source": []
  }
 ],
 "metadata": {
  "kernelspec": {
   "display_name": "Python 3 (ipykernel)",
   "language": "python",
   "name": "python3"
  },
  "language_info": {
   "codemirror_mode": {
    "name": "ipython",
    "version": 3
   },
   "file_extension": ".py",
   "mimetype": "text/x-python",
   "name": "python",
   "nbconvert_exporter": "python",
   "pygments_lexer": "ipython3",
   "version": "3.11.7"
  }
 },
 "nbformat": 4,
 "nbformat_minor": 5
}
